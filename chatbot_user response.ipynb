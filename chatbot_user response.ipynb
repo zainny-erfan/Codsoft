{
 "cells": [
  {
   "cell_type": "code",
   "execution_count": 2,
   "id": "582d2374",
   "metadata": {},
   "outputs": [
    {
     "name": "stdout",
     "output_type": "stream",
     "text": [
      "Chatbot: How was your day?\n",
      "You: Fantastic\n",
      "Chatbot: That's interesting. What are your hobbies?\n",
      "You: Youtube, going out\n",
      "Chatbot: Great! Now, tell me, what are your interets?\n",
      "You: dine out, hangout with firends\n",
      "Chatbot: Thanks for sharing. Is there any country you would like to visit someday?\n",
      "You: yes Australia\n",
      "Chatbot: I hope you get to visit there someday!\n",
      "Chatbot: Do you want to continue? (yes/no)\n",
      "You: no\n",
      "Chatbot: Right, HAVE A GREAT DAY AHEAD!\n"
     ]
    }
   ],
   "source": [
    "import time\n",
    "def ask_question(question):\n",
    "    print(\"Chatbot:\", question)\n",
    "    time.sleep(1)\n",
    "def user_reply():\n",
    "    user_input = input(\"You: \")\n",
    "    return user_input\n",
    "while True:\n",
    "    question = \"How was your day?\"\n",
    "    ask_question(question)\n",
    "    user_response = user_reply()\n",
    "    print(\"Chatbot: That's interesting. What are your hobbies?\")\n",
    "    user_response = user_reply()\n",
    "    print(\"Chatbot: Great! Now, tell me, what are your interets?\")\n",
    "    user_response = user_reply()\n",
    "    print(\"Chatbot: Thanks for sharing. Is there any country you would like to visit someday?\")\n",
    "    user_response = user_reply()\n",
    "    print(\"Chatbot: I hope you get to visit there someday!\")\n",
    "    ask_question(\"Do you want to continue? (yes/no)\")\n",
    "    user_response = user_reply()\n",
    "    if user_response.lower() != \"yes\":\n",
    "        print(\"Chatbot: Right, HAVE A GREAT DAY AHEAD!\")\n",
    "        break"
   ]
  },
  {
   "cell_type": "code",
   "execution_count": null,
   "id": "6fe9546a",
   "metadata": {},
   "outputs": [],
   "source": [
    "https://colab.research.google.com/drive/1y-0nJkp_h8oWs0D0R7Am0gRCGUsNOvEP?usp=sharing"
   ]
  }
 ],
 "metadata": {
  "kernelspec": {
   "display_name": "Python 3 (ipykernel)",
   "language": "python",
   "name": "python3"
  },
  "language_info": {
   "codemirror_mode": {
    "name": "ipython",
    "version": 3
   },
   "file_extension": ".py",
   "mimetype": "text/x-python",
   "name": "python",
   "nbconvert_exporter": "python",
   "pygments_lexer": "ipython3",
   "version": "3.10.9"
  }
 },
 "nbformat": 4,
 "nbformat_minor": 5
}
